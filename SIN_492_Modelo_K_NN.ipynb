{
  "nbformat": 4,
  "nbformat_minor": 0,
  "metadata": {
    "colab": {
      "provenance": [],
      "include_colab_link": true
    },
    "kernelspec": {
      "name": "python3",
      "display_name": "Python 3"
    },
    "language_info": {
      "name": "python"
    }
  },
  "cells": [
    {
      "cell_type": "markdown",
      "metadata": {
        "id": "view-in-github",
        "colab_type": "text"
      },
      "source": [
        "<a href=\"https://colab.research.google.com/github/luissaster/SIN492-Reconhecimento-de-Padroes/blob/main/SIN_492_Modelo_K_NN.ipynb\" target=\"_parent\"><img src=\"https://colab.research.google.com/assets/colab-badge.svg\" alt=\"Open In Colab\"/></a>"
      ]
    },
    {
      "cell_type": "markdown",
      "source": [
        "Montando o Google Drive do projeto."
      ],
      "metadata": {
        "id": "WemZ7JiVewQM"
      }
    },
    {
      "cell_type": "code",
      "execution_count": null,
      "metadata": {
        "id": "CmGRZu1HeZGl",
        "colab": {
          "base_uri": "https://localhost:8080/"
        },
        "outputId": "8bf85bf7-756e-4044-e6b1-1addb497fea2"
      },
      "outputs": [
        {
          "output_type": "stream",
          "name": "stdout",
          "text": [
            "Mounted at /content/drive\n"
          ]
        }
      ],
      "source": [
        "from google.colab import drive\n",
        "drive.mount('/content/drive')"
      ]
    },
    {
      "cell_type": "markdown",
      "source": [
        "Execução do modelo K-NN."
      ],
      "metadata": {
        "id": "-wAA5aqUBfSZ"
      }
    },
    {
      "cell_type": "code",
      "source": [
        "import pandas as pd\n",
        "from sklearn.model_selection import train_test_split\n",
        "from sklearn.neighbors import KNeighborsClassifier\n",
        "from sklearn import metrics\n",
        "from sklearn.metrics import accuracy_score, confusion_matrix\n",
        "from sklearn.preprocessing import StandardScaler\n",
        "import matplotlib.pyplot as plt\n",
        "import seaborn as sns\n",
        "import os\n",
        "\n",
        "# Importando o arquivo .csv\n",
        "df = pd.read_csv('/content/drive/MyDrive/database')\n",
        "\n",
        "EXP_PATH = '/content/drive/MyDrive/knnresults'\n",
        "if not os.path.exists(EXP_PATH):\n",
        "    os.makedirs(EXP_PATH)\n",
        "\n",
        "# Separando as features e o target\n",
        "X = df.loc[:, 'feature0':'feature15']\n",
        "y = df['target']\n",
        "\n",
        "# Normalizando os dados\n",
        "scaler = StandardScaler()\n",
        "X = scaler.fit_transform(X)\n",
        "\n",
        "# Dividindo os dados em treino e teste\n",
        "X_train, X_test, y_train, y_test = train_test_split(X, y, test_size=0.2,\n",
        "                                                    random_state=42)\n",
        "\n",
        "# Procurando o melhor valor de k\n",
        "best_k = 0\n",
        "best_accuracy = 0\n",
        "\n",
        "for k in range(1, 101):\n",
        "    knn = KNeighborsClassifier(n_neighbors=k, metric='euclidean')\n",
        "    knn.fit(X_train, y_train)\n",
        "    y_pred = knn.predict(X_test)\n",
        "    accuracy = accuracy_score(y_test, y_pred)\n",
        "\n",
        "    if accuracy > best_accuracy:\n",
        "        best_accuracy = accuracy\n",
        "        best_k = k\n",
        "\n",
        "# Treinando o modelo com o melhor valor encontrado para k\n",
        "knn = KNeighborsClassifier(n_neighbors=best_k,\n",
        "                           metric='euclidean')\n",
        "knn.fit(X_train, y_train)\n",
        "\n",
        "# Obtendo os resultados finais\n",
        "y_pred = knn.predict(X_test)\n",
        "confusion = confusion_matrix(y_test, y_pred)\n",
        "\n",
        "print(f'Melhor valor de k: {best_k}')\n",
        "print(f'Melhor Acurácia: {best_accuracy:.2f}')\n",
        "print(f'Matriz de Confusão:\\n {confusion}')\n",
        "\n",
        "# Visualização da Matriz de Confusão\n",
        "plt.figure(figsize=(10, 7))\n",
        "sns.heatmap(confusion, annot=True)\n",
        "plt.xlabel('Previsto')\n",
        "plt.ylabel('Real')\n",
        "plt.savefig(os.path.join(EXP_PATH, 'knn_confusion_matrix.pdf'))\n",
        "plt.show()\n"
      ],
      "metadata": {
        "id": "3igq2O83evSU",
        "colab": {
          "base_uri": "https://localhost:8080/",
          "height": 706
        },
        "outputId": "8c7b36d7-0993-432a-b3bf-cfe3a79b8555"
      },
      "execution_count": null,
      "outputs": [
        {
          "output_type": "stream",
          "name": "stdout",
          "text": [
            "Melhor valor de k: 40\n",
            "Melhor Acurácia: 0.70\n",
            "Matriz de Confusão:\n",
            " [[19 25]\n",
            " [ 3 47]]\n"
          ]
        },
        {
          "output_type": "display_data",
          "data": {
            "text/plain": [
              "<Figure size 1000x700 with 2 Axes>"
            ],
            "image/png": "[encoded data removed]"
          },
          "metadata": {}
        }
      ]
    },
    {
      "cell_type": "markdown",
      "source": [
        "Execução de um Perceptron Simples."
      ],
      "metadata": {
        "id": "4oySiwH4Dp6r"
      }
    },
    {
      "cell_type": "code",
      "source": [
        "from sklearn.linear_model import Perceptron\n",
        "\n",
        "# Importando o arquivo .csv\n",
        "df = pd.read_csv('/content/drive/MyDrive/database')\n",
        "\n",
        "# Separando as features e o target\n",
        "X = df.loc[:, 'feature0':'feature15']\n",
        "y = df['target']\n",
        "\n",
        "# Normalizando os dados\n",
        "scaler = StandardScaler()\n",
        "X = scaler.fit_transform(X)\n",
        "\n",
        "# Dividindo os dados em treino e teste\n",
        "X_train, X_test, y_train, y_test = train_test_split(X, y, test_size=0.2,\n",
        "                                                    random_state=42)\n",
        "\n",
        "# Treinando o modelo Perceptron\n",
        "perceptron_model = Perceptron()\n",
        "perceptron_model.fit(X_train, y_train)\n",
        "\n",
        "# Obtendo os resultados do Perceptron\n",
        "y_pred_perceptron = perceptron_model.predict(X_test)\n",
        "accuracy_perceptron = accuracy_score(y_test, y_pred_perceptron)\n",
        "confusion_perceptron = confusion_matrix(y_test, y_pred_perceptron)\n",
        "\n",
        "print(f'Acurácia do Perceptron: {accuracy_perceptron:.2f}')\n",
        "print(f'Matriz de Confusão Perceptron:\\n {confusion_perceptron}')\n",
        "\n",
        "# Visualização da Matriz de Confusão do Perceptron\n",
        "plt.figure(figsize=(10, 7))\n",
        "sns.heatmap(confusion_perceptron, annot=True)\n",
        "plt.xlabel('Previsto (Perceptron)')\n",
        "plt.ylabel('Real')\n",
        "plt.savefig(os.path.join(EXP_PATH, 'perceptron_confusion_matrix.pdf'))\n",
        "plt.show()\n"
      ],
      "metadata": {
        "id": "tp8Y-1QsB7yS",
        "colab": {
          "base_uri": "https://localhost:8080/",
          "height": 688
        },
        "outputId": "dab860ae-f7e2-4f89-e557-2f7faa7559e0"
      },
      "execution_count": null,
      "outputs": [
        {
          "output_type": "stream",
          "name": "stdout",
          "text": [
            "Acurácia do Perceptron: 0.62\n",
            "Matriz de Confusão Perceptron:\n",
            " [[25 19]\n",
            " [17 33]]\n"
          ]
        },
        {
          "output_type": "display_data",
          "data": {
            "text/plain": [
              "<Figure size 1000x700 with 2 Axes>"
            ],
            "image/png": "[encoded data removed]"
          },
          "metadata": {}
        }
      ]
    }
  ]
}